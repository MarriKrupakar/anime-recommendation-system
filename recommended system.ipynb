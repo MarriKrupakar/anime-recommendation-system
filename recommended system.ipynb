{
 "cells": [
  {
   "cell_type": "code",
   "execution_count": 2,
   "id": "a63b3a2e-5599-472c-9894-7517fbd9d34f",
   "metadata": {},
   "outputs": [
    {
     "data": {
      "text/html": [
       "<div>\n",
       "<style scoped>\n",
       "    .dataframe tbody tr th:only-of-type {\n",
       "        vertical-align: middle;\n",
       "    }\n",
       "\n",
       "    .dataframe tbody tr th {\n",
       "        vertical-align: top;\n",
       "    }\n",
       "\n",
       "    .dataframe thead th {\n",
       "        text-align: right;\n",
       "    }\n",
       "</style>\n",
       "<table border=\"1\" class=\"dataframe\">\n",
       "  <thead>\n",
       "    <tr style=\"text-align: right;\">\n",
       "      <th></th>\n",
       "      <th>anime_id</th>\n",
       "      <th>name</th>\n",
       "      <th>genre</th>\n",
       "      <th>type</th>\n",
       "      <th>episodes</th>\n",
       "      <th>rating</th>\n",
       "      <th>members</th>\n",
       "    </tr>\n",
       "  </thead>\n",
       "  <tbody>\n",
       "    <tr>\n",
       "      <th>0</th>\n",
       "      <td>32281</td>\n",
       "      <td>Kimi no Na wa.</td>\n",
       "      <td>Drama, Romance, School, Supernatural</td>\n",
       "      <td>Movie</td>\n",
       "      <td>1</td>\n",
       "      <td>9.37</td>\n",
       "      <td>200630</td>\n",
       "    </tr>\n",
       "    <tr>\n",
       "      <th>1</th>\n",
       "      <td>5114</td>\n",
       "      <td>Fullmetal Alchemist: Brotherhood</td>\n",
       "      <td>Action, Adventure, Drama, Fantasy, Magic, Mili...</td>\n",
       "      <td>TV</td>\n",
       "      <td>64</td>\n",
       "      <td>9.26</td>\n",
       "      <td>793665</td>\n",
       "    </tr>\n",
       "    <tr>\n",
       "      <th>2</th>\n",
       "      <td>28977</td>\n",
       "      <td>Gintama°</td>\n",
       "      <td>Action, Comedy, Historical, Parody, Samurai, S...</td>\n",
       "      <td>TV</td>\n",
       "      <td>51</td>\n",
       "      <td>9.25</td>\n",
       "      <td>114262</td>\n",
       "    </tr>\n",
       "    <tr>\n",
       "      <th>3</th>\n",
       "      <td>9253</td>\n",
       "      <td>Steins;Gate</td>\n",
       "      <td>Sci-Fi, Thriller</td>\n",
       "      <td>TV</td>\n",
       "      <td>24</td>\n",
       "      <td>9.17</td>\n",
       "      <td>673572</td>\n",
       "    </tr>\n",
       "    <tr>\n",
       "      <th>4</th>\n",
       "      <td>9969</td>\n",
       "      <td>Gintama&amp;#039;</td>\n",
       "      <td>Action, Comedy, Historical, Parody, Samurai, S...</td>\n",
       "      <td>TV</td>\n",
       "      <td>51</td>\n",
       "      <td>9.16</td>\n",
       "      <td>151266</td>\n",
       "    </tr>\n",
       "  </tbody>\n",
       "</table>\n",
       "</div>"
      ],
      "text/plain": [
       "   anime_id                              name  \\\n",
       "0     32281                    Kimi no Na wa.   \n",
       "1      5114  Fullmetal Alchemist: Brotherhood   \n",
       "2     28977                          Gintama°   \n",
       "3      9253                       Steins;Gate   \n",
       "4      9969                     Gintama&#039;   \n",
       "\n",
       "                                               genre   type episodes  rating  \\\n",
       "0               Drama, Romance, School, Supernatural  Movie        1    9.37   \n",
       "1  Action, Adventure, Drama, Fantasy, Magic, Mili...     TV       64    9.26   \n",
       "2  Action, Comedy, Historical, Parody, Samurai, S...     TV       51    9.25   \n",
       "3                                   Sci-Fi, Thriller     TV       24    9.17   \n",
       "4  Action, Comedy, Historical, Parody, Samurai, S...     TV       51    9.16   \n",
       "\n",
       "   members  \n",
       "0   200630  \n",
       "1   793665  \n",
       "2   114262  \n",
       "3   673572  \n",
       "4   151266  "
      ]
     },
     "execution_count": 2,
     "metadata": {},
     "output_type": "execute_result"
    }
   ],
   "source": [
    "import pandas as pd\n",
    "from sklearn.feature_extraction.text import TfidfVectorizer\n",
    "from sklearn.metrics.pairwise import cosine_similarity\n",
    "import numpy as np\n",
    "from sklearn.model_selection import train_test_split\n",
    "file_path =r\"anime.csv\"  \n",
    "df = pd.read_csv(file_path)\n",
    "df.head()\n"
   ]
  },
  {
   "cell_type": "code",
   "execution_count": 3,
   "id": "2d6bb048-92ce-4b0e-be40-e5d3b784ee65",
   "metadata": {},
   "outputs": [
    {
     "data": {
      "text/plain": [
       "anime_id      0\n",
       "name          0\n",
       "genre        62\n",
       "type         25\n",
       "episodes      0\n",
       "rating      230\n",
       "members       0\n",
       "dtype: int64"
      ]
     },
     "execution_count": 3,
     "metadata": {},
     "output_type": "execute_result"
    }
   ],
   "source": [
    "missing_values = df.isnull().sum()\n",
    "missing_values\n"
   ]
  },
  {
   "cell_type": "code",
   "execution_count": 4,
   "id": "5b0ba7e3-75ed-4f2f-9fa6-26a989826c49",
   "metadata": {},
   "outputs": [
    {
     "data": {
      "text/plain": [
       "anime_id    0\n",
       "name        0\n",
       "genre       0\n",
       "type        0\n",
       "episodes    0\n",
       "rating      0\n",
       "members     0\n",
       "dtype: int64"
      ]
     },
     "execution_count": 4,
     "metadata": {},
     "output_type": "execute_result"
    }
   ],
   "source": [
    "df['genre'].fillna('Unknown', inplace=True)  \n",
    "df['rating'].fillna(df['rating'].mean(), inplace=True) \n",
    "df.dropna(inplace=True)  \n",
    "df.isnull().sum()\n"
   ]
  },
  {
   "cell_type": "code",
   "execution_count": 5,
   "id": "88ee2904-11f1-4316-b024-a8204915435f",
   "metadata": {},
   "outputs": [
    {
     "data": {
      "text/plain": [
       "(583, 583)"
      ]
     },
     "execution_count": 5,
     "metadata": {},
     "output_type": "execute_result"
    }
   ],
   "source": [
    "tfidf = TfidfVectorizer(stop_words='english')\n",
    "tfidf_matrix = tfidf.fit_transform(df['genre'].astype(str))\n",
    "filtered_df = df[df['rating'] > 8.0].reset_index(drop=True)\n",
    "tfidf_matrix_filtered = tfidf.fit_transform(filtered_df['genre'].astype(str))\n",
    "cosine_sim_filtered = cosine_similarity(tfidf_matrix_filtered, tfidf_matrix_filtered)\n",
    "cosine_sim_filtered.shape\n"
   ]
  },
  {
   "cell_type": "code",
   "execution_count": 6,
   "id": "193ffda4-fdf1-40ed-ad5a-0b026e40a762",
   "metadata": {},
   "outputs": [
    {
     "data": {
      "text/plain": [
       "['Steins;Gate Movie: Fuka Ryouiki no Déjà vu',\n",
       " 'Steins;Gate: Oukoubakko no Poriomania',\n",
       " 'Steins;Gate: Kyoukaimenjou no Missing Link - Divide By Zero',\n",
       " 'Gankutsuou',\n",
       " 'Higashi no Eden']"
      ]
     },
     "execution_count": 6,
     "metadata": {},
     "output_type": "execute_result"
    }
   ],
   "source": [
    "anime_indices_filtered = pd.Series(filtered_df.index, index=filtered_df['name']).drop_duplicates()\n",
    "\n",
    "def recommend_anime(title, num_recommendations=5):\n",
    "    \"\"\"Recommend anime based on cosine similarity.\"\"\"\n",
    "    if title not in anime_indices_filtered:\n",
    "        return \"Anime not found in dataset.\"\n",
    "    \n",
    "    idx = anime_indices_filtered[title]\n",
    "    \n",
    "    sim_scores = list(enumerate(cosine_sim_filtered[idx]))\n",
    "    \n",
    "    sim_scores = sorted(sim_scores, key=lambda x: x[1], reverse=True)\n",
    "    \n",
    "    sim_scores = sim_scores[1:num_recommendations+1]\n",
    "    \n",
    "    anime_recommendations = [filtered_df.iloc[i[0]]['name'] for i in sim_scores]\n",
    "    \n",
    "    return anime_recommendations\n",
    "\n",
    "recommend_anime(\"Steins;Gate\", 5)\n"
   ]
  },
  {
   "cell_type": "code",
   "execution_count": 7,
   "id": "03af9678-ea55-4e4d-bf65-8e668556ee59",
   "metadata": {},
   "outputs": [
    {
     "data": {
      "text/plain": [
       "(0.7418803418803419, 0.7418803418803419, 0.741880341880342)"
      ]
     },
     "execution_count": 7,
     "metadata": {},
     "output_type": "execute_result"
    }
   ],
   "source": [
    "def evaluate_recommendations():\n",
    "    \"\"\"Evaluate the recommendation system using precision, recall, and F1-score.\"\"\"\n",
    "    precision_list = []\n",
    "    recall_list = []\n",
    "    \n",
    "    train_data, test_data = train_test_split(filtered_df, test_size=0.2, random_state=42)\n",
    "    \n",
    "    for index, row in test_data.iterrows():\n",
    "        actual_anime = row['name']\n",
    "        recommended_anime = recommend_anime(actual_anime, num_recommendations=5)\n",
    "        \n",
    "        if isinstance(recommended_anime, str): \n",
    "            continue  \n",
    "\n",
    "        relevant_items = sum(1 for anime in recommended_anime if anime in train_data['name'].values)\n",
    "        precision = relevant_items / len(recommended_anime) if recommended_anime else 0\n",
    "        recall = relevant_items / 5  \n",
    "\n",
    "        precision_list.append(precision)\n",
    "        recall_list.append(recall)\n",
    "    \n",
    "   \n",
    "    precision = np.mean(precision_list) if precision_list else 0\n",
    "    recall = np.mean(recall_list) if recall_list else 0\n",
    "    f1_score = 2 * (precision * recall) / (precision + recall) if (precision + recall) > 0 else 0\n",
    "    \n",
    "    return precision, recall, f1_score\n",
    "\n",
    "evaluate_recommendations()\n"
   ]
  },
  {
   "cell_type": "markdown",
   "id": "05b2af0b-f45a-413f-a2b0-ff453713a3a1",
   "metadata": {},
   "source": [
    "# 1. Can you explain the difference between user-based and item-based collaborative filtering?\n"
   ]
  },
  {
   "cell_type": "raw",
   "id": "595d4aee-d815-4220-95bd-c8f46d997585",
   "metadata": {},
   "source": [
    "User-based filtering: Recommends based on similar users.\n",
    "Focuses on Finding similar users\n",
    "Recommends by looking at what similar users liked\n",
    "Similarity Computed Between\tUsers\n",
    "Algorithm is to find neighbors similar users, then average their ratings\n",
    "Example\t:People similar to you liked this anime\n",
    "\n",
    "Item-based filtering: Recommends items similar to those liked by the user.\n",
    "Focuses on finding similar items\n",
    "Recommends by looking at what similar items were liked\n",
    "Similarity Computed Between Items\n",
    "Algorithm is to find similar items, then use them to predict rating for a user\n",
    "Example\t:Since you liked Naruto, you might like Bleach"
   ]
  },
  {
   "cell_type": "markdown",
   "id": "3bae6853-3f3e-44d1-b169-479c23653dae",
   "metadata": {},
   "source": [
    "# 2. What is collaborative filtering, and how does it work?\n"
   ]
  },
  {
   "cell_type": "raw",
   "id": "8a5f5c81-ba7b-4f9c-a842-88c8ee80483d",
   "metadata": {},
   "source": [
    "A method where recommendations are made using preferences of other users collaboration>\n",
    "Collaborative Filtering is a technique used in recommendation systems. Instead of recommending items based on content (like genres or features), it recommends based on user behavior — like ratings or clicks.\n",
    "how it works:-\n",
    "Build a user-item matrix: rows = users, columns = items (like anime), values = ratings or interactions.\n",
    "Use that matrix to find patterns — users or items that behave similarly.\n",
    "Predict ratings for items a user hasn’t seen by looking at similar users/items.\n",
    "\n"
   ]
  },
  {
   "cell_type": "code",
   "execution_count": null,
   "id": "cda680ec-f68f-4eb5-a311-b502e5fcddf3",
   "metadata": {},
   "outputs": [],
   "source": []
  }
 ],
 "metadata": {
  "kernelspec": {
   "display_name": "Python [conda env:base] *",
   "language": "python",
   "name": "conda-base-py"
  },
  "language_info": {
   "codemirror_mode": {
    "name": "ipython",
    "version": 3
   },
   "file_extension": ".py",
   "mimetype": "text/x-python",
   "name": "python",
   "nbconvert_exporter": "python",
   "pygments_lexer": "ipython3",
   "version": "3.11.5"
  }
 },
 "nbformat": 4,
 "nbformat_minor": 5
}
